{
  "nbformat": 4,
  "nbformat_minor": 0,
  "metadata": {
    "colab": {
      "provenance": [],
      "collapsed_sections": []
    },
    "kernelspec": {
      "name": "python3",
      "display_name": "Python 3"
    },
    "language_info": {
      "name": "python"
    }
  },
  "cells": [
    {
      "cell_type": "code",
      "execution_count": null,
      "metadata": {
        "colab": {
          "base_uri": "https://localhost:8080/"
        },
        "id": "OkAGd6QPDgFF",
        "outputId": "a2949cc5-8c3d-4e2c-f9f6-344f4d95a7b2"
      },
      "outputs": [
        {
          "output_type": "stream",
          "name": "stderr",
          "text": [
            "/usr/local/lib/python3.7/dist-packages/seaborn/distributions.py:1699: FutureWarning: The `bw` parameter is deprecated in favor of `bw_method` and `bw_adjust`. Using 0.4 for `bw_method`, but please see the docs for the new parameters and update your code.\n",
            "  warnings.warn(msg, FutureWarning)\n"
          ]
        },
        {
          "output_type": "display_data",
          "data": {
            "text/plain": [
              "<Figure size 432x288 with 1 Axes>"
            ],
            "image/png": "[encoded data removed]"
          },
          "metadata": {
            "needs_background": "light"
          }
        }
      ],
      "source": [
        "import math\n",
        "import numpy as np\n",
        "import numpy.matlib\n",
        "import matplotlib.pyplot as plt\n",
        "import seaborn as sns\n",
        "from scipy.spatial.distance import pdist, squareform\n",
        "\n",
        "class SVGD_model():\n",
        "\n",
        "    def __init__(self):\n",
        "        pass\n",
        "\n",
        "    def SVGD_kernal(self, x, h=-1):\n",
        "        init_dist = pdist(x)\n",
        "        pairwise_dists = squareform(init_dist)\n",
        "        if h < 0:  # if h < 0, using median trick\n",
        "            h = np.median(pairwise_dists)\n",
        "            h = h ** 2 / np.log(x.shape[0] + 1)\n",
        "\n",
        "        kernal_xj_xi = np.exp(- pairwise_dists ** 2 / h)/ (np.sqrt( np.pi * h))\n",
        "        d_kernal_xi = np.zeros(x.shape)\n",
        "        for i_index in range(x.shape[0]):\n",
        "            d_kernal_xi[i_index] = np.matmul(kernal_xj_xi[i_index], x[i_index] - x) * 2 / (np.sqrt( np.pi * h)*h)\n",
        "\n",
        "        return kernal_xj_xi, d_kernal_xi\n",
        "\n",
        "    def update(self, x0, lnprob,probdensity,beta=-0.5,alpha=0.1, n_iter=1000, stepsize=1e-3, bandwidth=-1, debug=False):\n",
        "        # Check input\n",
        "        if x0 is None or lnprob is None:\n",
        "            raise ValueError('x0 or lnprob cannot be None!')\n",
        "\n",
        "        x = np.copy(x0)\n",
        "\n",
        "        # adagrad with momentum\n",
        "        eps_factor = 1e-8\n",
        "        historical_grad_square = 0\n",
        "        for iter in range(n_iter):\n",
        "            if debug and (iter + 1) % 1000 == 0:\n",
        "                print('iter ' + str(iter + 1))\n",
        "\n",
        "            kernal_xj_xi, d_kernal_xi = self.SVGD_kernal(x, bandwidth)\n",
        "            current_grad = (np.matmul(kernal_xj_xi, lnprob(x)) + d_kernal_xi) / x.shape[0]\n",
        "            #if iter == 0:\n",
        "            #   historical_grad_square += current_grad ** 2\n",
        "            #else:\n",
        "            #    historical_grad_square = alpha * historical_grad_square + (1 - alpha) * (current_grad ** 2)\n",
        "            adj_grad = current_grad\n",
        "            x += stepsize * adj_grad\n",
        "\n",
        "        return x\n",
        "\n",
        "\n",
        "\n",
        "sns.set_palette('deep', desat=.6)\n",
        "sns.set_context(rc={'figure.figsize': (8, 5) } )\n",
        "\n",
        "class OneDimensionGM():\n",
        "\n",
        "    def __init__(self, omega, mean, var, p):\n",
        "        self.omega = omega\n",
        "        self.mean = mean\n",
        "        self.var = var\n",
        "        self.p = p\n",
        "\n",
        "    def dlnprob(self, x):\n",
        "        rep_x = np.matlib.repmat(x, 1, self.omega.shape[0])\n",
        "        category_prob = np.exp(- (abs(rep_x - self.mean)/self.var) ** self.p) / (2*(self.var/self.p)*math.gamma(1/self.p))*self.omega\n",
        "        den = np.sum(category_prob, 1)\n",
        "        num = (- (self.p/self.var)*((rep_x - self.mean) / self.var)*(abs(rep_x - self.mean) / self.var)**(self.p-2) * category_prob).sum(1)\n",
        "        return np.expand_dims((num / den), 1)\n",
        "\n",
        "    def MGprob(self, x):\n",
        "        rep_x = np.matlib.repmat(x, 1, self.omega.shape[0])\n",
        "        category_prob = np.exp(- (abs(rep_x - self.mean)/self.var) ** self.p) / (2*(self.var/self.p)*math.gamma(1/self.p)) * self.omega\n",
        "        den = np.sum(category_prob, 1)\n",
        "        return np.expand_dims(den, 1)\n",
        "\n",
        "if __name__ == \"__main__\":\n",
        "\n",
        "    w = np.array([1])\n",
        "    mean = np.array([2])\n",
        "    p = np.array([5])\n",
        "    sigma = 3\n",
        "    var = np.array([sigma*math.sqrt(math.gamma(1./p))/math.gamma(3./p)])\n",
        "    int_p = int(p)\n",
        "    OneDimensionGM_model = OneDimensionGM(w, mean, var,p)\n",
        "\n",
        "    np.random.seed(0)\n",
        "\n",
        "    x0 = np.random.normal(-10, 1, [250, 1]);\n",
        "    dlnprob = OneDimensionGM_model.dlnprob\n",
        "    probdensity=OneDimensionGM_model.MGprob\n",
        "\n",
        "    svgd_model = SVGD_model()\n",
        "    n_iter = 500\n",
        "    beta=0\n",
        "    x = svgd_model.update(x0, dlnprob, probdensity, beta=beta, alpha=0.1, n_iter=n_iter, stepsize=1, bandwidth=1, debug=True)\n",
        "\n",
        "\n",
        "    #plot result\n",
        "    sns.kdeplot(x.reshape((250,)), bw = .4, color = 'g')\n",
        "\n",
        "    mg_prob = OneDimensionGM_model.MGprob\n",
        "    x_lin = np.expand_dims(np.linspace(-15, 15, 100), 1)\n",
        "    x_prob = mg_prob(x_lin)\n",
        "    plt.plot(x_lin, x_prob, 'b--')\n",
        "    plt.axis([-15, 15, 0, 0.4])\n",
        "    plt.title(str(n_iter) + '$ ^{th}$ iteration, '+'p='+str(int_p))\n",
        "    plt.show()\n",
        "\n",
        "\n"
      ]
    }
  ]
}